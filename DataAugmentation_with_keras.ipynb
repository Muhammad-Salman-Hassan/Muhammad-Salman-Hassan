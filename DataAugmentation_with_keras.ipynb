{
  "nbformat": 4,
  "nbformat_minor": 0,
  "metadata": {
    "colab": {
      "name": "DataAugmentation_with_keras.ipynb",
      "provenance": [],
      "collapsed_sections": [],
      "authorship_tag": "ABX9TyP6VNbKklgKechk7ZQYFtEv",
      "include_colab_link": true
    },
    "kernelspec": {
      "name": "python3",
      "display_name": "Python 3"
    },
    "language_info": {
      "name": "python"
    }
  },
  "cells": [
    {
      "cell_type": "markdown",
      "metadata": {
        "id": "view-in-github",
        "colab_type": "text"
      },
      "source": [
        "<a href=\"https://colab.research.google.com/github/Muhammad-Salman-Hassan/Muhammad-Salman-Hassan/blob/main/DataAugmentation_with_keras.ipynb\" target=\"_parent\"><img src=\"https://colab.research.google.com/assets/colab-badge.svg\" alt=\"Open In Colab\"/></a>"
      ]
    },
    {
      "cell_type": "code",
      "metadata": {
        "id": "cSYJrXkfR1H5"
      },
      "source": [
        "#AOA Guyz lets make fun with doing Image processing with keras\n",
        "import tensorflow as tf\n",
        "import keras"
      ],
      "execution_count": null,
      "outputs": []
    },
    {
      "cell_type": "code",
      "metadata": {
        "id": "LNyMI1tQmY8R"
      },
      "source": [
        ""
      ],
      "execution_count": null,
      "outputs": []
    },
    {
      "cell_type": "markdown",
      "metadata": {
        "id": "6JZ-VBQzmcdd"
      },
      "source": [
        " In image processing on CNN we need to Perform Data Augmentation this is similar to Data Preprocessing we are performing Data Augmentation with the help of Keras which is most power API of Tensor Flow Lets Dive In"
      ]
    },
    {
      "cell_type": "code",
      "metadata": {
        "id": "Nw7nUkyRSOAZ"
      },
      "source": [
        "#we are using Image Data generator from keras it is use for shifting rotating flipping our images\n",
        "datagen=tf.keras.preprocessing.image.ImageDataGenerator(rotation_range=40,\n",
        "                                                width_shift_range=0.2,\n",
        "                                                height_shift_range=0.3,\n",
        "                                                shear_range=0.2,\n",
        "                                                zoom_range=0.2,\n",
        "                                                horizontal_flip=True,\n",
        "                                                fill_mode='nearest'\n",
        "                                                )"
      ],
      "execution_count": null,
      "outputs": []
    },
    {
      "cell_type": "code",
      "metadata": {
        "id": "Jsm686EpTXyh"
      },
      "source": [
        "from keras.preprocessing.image import array_to_img,load_img,img_to_array"
      ],
      "execution_count": null,
      "outputs": []
    },
    {
      "cell_type": "code",
      "metadata": {
        "id": "uL7ZQT9KUEI-"
      },
      "source": [
        "#loading our image with keras load_img fucntionor you can use PIL to load image but keras is giving more power full function for load images\n",
        "#from PIL import Image\n",
        "\n",
        "img=load_img(\"/content/Feminine Beauty and Spa Logo with Woman's Face (1).png\")"
      ],
      "execution_count": null,
      "outputs": []
    },
    {
      "cell_type": "code",
      "metadata": {
        "id": "Mae1YBQJUL7H"
      },
      "source": [
        "#converting our image into array because Python don't uderstand our image so we convert into array\n",
        "x=img_to_array(img)\n",
        "\n",
        "#reshaping our image into (1,3,150,150)\n",
        "x=x.reshape((1,)+x.shape)\n"
      ],
      "execution_count": 23,
      "outputs": []
    },
    {
      "cell_type": "code",
      "metadata": {
        "colab": {
          "base_uri": "https://localhost:8080/"
        },
        "id": "3K778II6UR20",
        "outputId": "3c6e359d-d5a3-48e9-a8e3-c27d0138d254"
      },
      "source": [
        "x"
      ],
      "execution_count": null,
      "outputs": [
        {
          "output_type": "execute_result",
          "data": {
            "text/plain": [
              "array([[[[255., 216., 207.],\n",
              "         [255., 216., 207.],\n",
              "         [255., 216., 207.],\n",
              "         ...,\n",
              "         [255., 216., 207.],\n",
              "         [255., 216., 207.],\n",
              "         [255., 216., 207.]],\n",
              "\n",
              "        [[255., 216., 207.],\n",
              "         [255., 216., 207.],\n",
              "         [255., 216., 207.],\n",
              "         ...,\n",
              "         [255., 216., 207.],\n",
              "         [255., 216., 207.],\n",
              "         [255., 216., 207.]],\n",
              "\n",
              "        [[255., 220., 212.],\n",
              "         [255., 216., 207.],\n",
              "         [255., 216., 207.],\n",
              "         ...,\n",
              "         [255., 216., 207.],\n",
              "         [255., 216., 207.],\n",
              "         [255., 216., 207.]],\n",
              "\n",
              "        ...,\n",
              "\n",
              "        [[255., 216., 207.],\n",
              "         [255., 216., 207.],\n",
              "         [255., 216., 207.],\n",
              "         ...,\n",
              "         [255., 216., 207.],\n",
              "         [255., 216., 207.],\n",
              "         [255., 216., 207.]],\n",
              "\n",
              "        [[255., 216., 207.],\n",
              "         [255., 216., 207.],\n",
              "         [255., 216., 207.],\n",
              "         ...,\n",
              "         [255., 216., 207.],\n",
              "         [255., 216., 207.],\n",
              "         [255., 216., 207.]],\n",
              "\n",
              "        [[255., 216., 207.],\n",
              "         [255., 216., 207.],\n",
              "         [255., 216., 207.],\n",
              "         ...,\n",
              "         [255., 216., 207.],\n",
              "         [255., 216., 207.],\n",
              "         [255., 216., 207.]]]], dtype=float32)"
            ]
          },
          "metadata": {
            "tags": []
          },
          "execution_count": 12
        }
      ]
    },
    {
      "cell_type": "code",
      "metadata": {
        "id": "L_YAgew2UvYC"
      },
      "source": [
        "#Focus!!! \n",
        "\n",
        "#here we use .flow method because we dont have any directory like train test if you have such directory you need .flow_from_directory method\n",
        "\n",
        "i=0\n",
        "for batch in datagen.flow(x,batch_size=2,save_to_dir='preview',save_format='png',save_prefix='one'):\n",
        "  i+=1\n",
        "  if i>=10:\n",
        "    break"
      ],
      "execution_count": null,
      "outputs": []
    },
    {
      "cell_type": "code",
      "metadata": {
        "id": "JnbjZ6aZV_nP",
        "colab": {
          "base_uri": "https://localhost:8080/"
        },
        "outputId": "bf65503f-21ea-444b-a946-39cc9993ae14"
      },
      "source": [
        "x.reshape((1,)+x.shape)"
      ],
      "execution_count": null,
      "outputs": [
        {
          "output_type": "execute_result",
          "data": {
            "text/plain": [
              "array([[[[[255., 216., 207.],\n",
              "          [255., 216., 207.],\n",
              "          [255., 216., 207.],\n",
              "          ...,\n",
              "          [255., 216., 207.],\n",
              "          [255., 216., 207.],\n",
              "          [255., 216., 207.]],\n",
              "\n",
              "         [[255., 216., 207.],\n",
              "          [255., 216., 207.],\n",
              "          [255., 216., 207.],\n",
              "          ...,\n",
              "          [255., 216., 207.],\n",
              "          [255., 216., 207.],\n",
              "          [255., 216., 207.]],\n",
              "\n",
              "         [[255., 220., 212.],\n",
              "          [255., 216., 207.],\n",
              "          [255., 216., 207.],\n",
              "          ...,\n",
              "          [255., 216., 207.],\n",
              "          [255., 216., 207.],\n",
              "          [255., 216., 207.]],\n",
              "\n",
              "         ...,\n",
              "\n",
              "         [[255., 216., 207.],\n",
              "          [255., 216., 207.],\n",
              "          [255., 216., 207.],\n",
              "          ...,\n",
              "          [255., 216., 207.],\n",
              "          [255., 216., 207.],\n",
              "          [255., 216., 207.]],\n",
              "\n",
              "         [[255., 216., 207.],\n",
              "          [255., 216., 207.],\n",
              "          [255., 216., 207.],\n",
              "          ...,\n",
              "          [255., 216., 207.],\n",
              "          [255., 216., 207.],\n",
              "          [255., 216., 207.]],\n",
              "\n",
              "         [[255., 216., 207.],\n",
              "          [255., 216., 207.],\n",
              "          [255., 216., 207.],\n",
              "          ...,\n",
              "          [255., 216., 207.],\n",
              "          [255., 216., 207.],\n",
              "          [255., 216., 207.]]]]], dtype=float32)"
            ]
          },
          "metadata": {
            "tags": []
          },
          "execution_count": 22
        }
      ]
    },
    {
      "cell_type": "code",
      "metadata": {
        "id": "uxRQOY69u-n0"
      },
      "source": [
        ""
      ],
      "execution_count": null,
      "outputs": []
    }
  ]
}